{
  "nbformat": 4,
  "nbformat_minor": 0,
  "metadata": {
    "colab": {
      "provenance": [],
      "authorship_tag": "ABX9TyMx1x10P8jhC0UVL/31C+UJ",
      "include_colab_link": true
    },
    "kernelspec": {
      "name": "python3",
      "display_name": "Python 3"
    },
    "language_info": {
      "name": "python"
    }
  },
  "cells": [
    {
      "cell_type": "markdown",
      "metadata": {
        "id": "view-in-github",
        "colab_type": "text"
      },
      "source": [
        "<a href=\"https://colab.research.google.com/github/boojigithub/web-/blob/main/Untitled0.ipynb\" target=\"_parent\"><img src=\"https://colab.research.google.com/assets/colab-badge.svg\" alt=\"Open In Colab\"/></a>"
      ]
    },
    {
      "cell_type": "code",
      "execution_count": 2,
      "metadata": {
        "colab": {
          "base_uri": "https://localhost:8080/"
        },
        "id": "FRNT6smVd9Rx",
        "outputId": "66cfaebb-8b7a-4094-b314-e916c67908fd"
      },
      "outputs": [
        {
          "output_type": "stream",
          "name": "stdout",
          "text": [
            "Enter the first number: 60\n",
            "Enter the second number: 79\n",
            "Enter the operation (+, -, *, /): +\n",
            "60.0 + 79.0 = 139.0\n"
          ]
        }
      ],
      "source": [
        "def calculator():\n",
        "    try:\n",
        "        num1 = float(input(\"Enter the first number: \"))\n",
        "        num2 = float(input(\"Enter the second number: \"))\n",
        "        operation = input(\"Enter the operation (+, -, *, /): \")\n",
        "\n",
        "        if operation == '+':\n",
        "            result = num1 + num2\n",
        "            print(f\"{num1} + {num2} = {result}\")\n",
        "        elif operation == '-':\n",
        "            result = num1 - num2\n",
        "            print(f\"{num1} - {num2} = {result}\")\n",
        "        elif operation == '*':\n",
        "            result = num1 * num2\n",
        "            print(f\"{num1} * {num2} = {result}\")\n",
        "        elif operation == '/':\n",
        "            if num2 != 0:\n",
        "                result = num1 / num2\n",
        "                print(f\"{num1} / {num2} = {result}\")\n",
        "            else:\n",
        "                print(\"Error: Division by zero is not allowed.\")\n",
        "        else:\n",
        "            print(\"Invalid operation. Please choose from +, -, *, or /.\")\n",
        "    except ValueError:\n",
        "        print(\"Invalid input. Please enter valid numbers.\")\n",
        "    except Exception as e:\n",
        "        print(f\"An unexpected error occurred: {e}\")\n",
        "\n",
        "# Run the calculator program\n",
        "calculator()"
      ]
    }
  ]
}